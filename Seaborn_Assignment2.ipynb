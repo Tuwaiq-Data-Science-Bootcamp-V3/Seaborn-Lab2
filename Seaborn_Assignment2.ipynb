{
 "cells": [
  {
   "cell_type": "code",
   "execution_count": 1,
   "metadata": {},
   "outputs": [],
   "source": [
    "import pandas as pd\n",
    "import matplotlib.pyplot as plt"
   ]
  },
  {
   "cell_type": "markdown",
   "metadata": {},
   "source": [
    "# Q1: Import seaborn library"
   ]
  },
  {
   "cell_type": "code",
   "execution_count": 2,
   "metadata": {},
   "outputs": [],
   "source": [
    "# write your code here ^_^\n",
    "import seaborn as sns\n",
    "import matplotlib.pyplot as plt"
   ]
  },
  {
   "cell_type": "code",
   "execution_count": 3,
   "metadata": {},
   "outputs": [
    {
     "data": {
      "text/html": [
       "<div>\n",
       "<style scoped>\n",
       "    .dataframe tbody tr th:only-of-type {\n",
       "        vertical-align: middle;\n",
       "    }\n",
       "\n",
       "    .dataframe tbody tr th {\n",
       "        vertical-align: top;\n",
       "    }\n",
       "\n",
       "    .dataframe thead th {\n",
       "        text-align: right;\n",
       "    }\n",
       "</style>\n",
       "<table border=\"1\" class=\"dataframe\">\n",
       "  <thead>\n",
       "    <tr style=\"text-align: right;\">\n",
       "      <th></th>\n",
       "      <th>total_bill</th>\n",
       "      <th>tip</th>\n",
       "      <th>sex</th>\n",
       "      <th>smoker</th>\n",
       "      <th>day</th>\n",
       "      <th>time</th>\n",
       "      <th>size</th>\n",
       "    </tr>\n",
       "  </thead>\n",
       "  <tbody>\n",
       "    <tr>\n",
       "      <th>0</th>\n",
       "      <td>16.99</td>\n",
       "      <td>1.01</td>\n",
       "      <td>Female</td>\n",
       "      <td>No</td>\n",
       "      <td>Sun</td>\n",
       "      <td>Dinner</td>\n",
       "      <td>2</td>\n",
       "    </tr>\n",
       "    <tr>\n",
       "      <th>1</th>\n",
       "      <td>10.34</td>\n",
       "      <td>1.66</td>\n",
       "      <td>Male</td>\n",
       "      <td>No</td>\n",
       "      <td>Sun</td>\n",
       "      <td>Dinner</td>\n",
       "      <td>3</td>\n",
       "    </tr>\n",
       "    <tr>\n",
       "      <th>2</th>\n",
       "      <td>21.01</td>\n",
       "      <td>3.50</td>\n",
       "      <td>Male</td>\n",
       "      <td>No</td>\n",
       "      <td>Sun</td>\n",
       "      <td>Dinner</td>\n",
       "      <td>3</td>\n",
       "    </tr>\n",
       "    <tr>\n",
       "      <th>3</th>\n",
       "      <td>23.68</td>\n",
       "      <td>3.31</td>\n",
       "      <td>Male</td>\n",
       "      <td>No</td>\n",
       "      <td>Sun</td>\n",
       "      <td>Dinner</td>\n",
       "      <td>2</td>\n",
       "    </tr>\n",
       "    <tr>\n",
       "      <th>4</th>\n",
       "      <td>24.59</td>\n",
       "      <td>3.61</td>\n",
       "      <td>Female</td>\n",
       "      <td>No</td>\n",
       "      <td>Sun</td>\n",
       "      <td>Dinner</td>\n",
       "      <td>4</td>\n",
       "    </tr>\n",
       "    <tr>\n",
       "      <th>...</th>\n",
       "      <td>...</td>\n",
       "      <td>...</td>\n",
       "      <td>...</td>\n",
       "      <td>...</td>\n",
       "      <td>...</td>\n",
       "      <td>...</td>\n",
       "      <td>...</td>\n",
       "    </tr>\n",
       "    <tr>\n",
       "      <th>239</th>\n",
       "      <td>29.03</td>\n",
       "      <td>5.92</td>\n",
       "      <td>Male</td>\n",
       "      <td>No</td>\n",
       "      <td>Sat</td>\n",
       "      <td>Dinner</td>\n",
       "      <td>3</td>\n",
       "    </tr>\n",
       "    <tr>\n",
       "      <th>240</th>\n",
       "      <td>27.18</td>\n",
       "      <td>2.00</td>\n",
       "      <td>Female</td>\n",
       "      <td>Yes</td>\n",
       "      <td>Sat</td>\n",
       "      <td>Dinner</td>\n",
       "      <td>2</td>\n",
       "    </tr>\n",
       "    <tr>\n",
       "      <th>241</th>\n",
       "      <td>22.67</td>\n",
       "      <td>2.00</td>\n",
       "      <td>Male</td>\n",
       "      <td>Yes</td>\n",
       "      <td>Sat</td>\n",
       "      <td>Dinner</td>\n",
       "      <td>2</td>\n",
       "    </tr>\n",
       "    <tr>\n",
       "      <th>242</th>\n",
       "      <td>17.82</td>\n",
       "      <td>1.75</td>\n",
       "      <td>Male</td>\n",
       "      <td>No</td>\n",
       "      <td>Sat</td>\n",
       "      <td>Dinner</td>\n",
       "      <td>2</td>\n",
       "    </tr>\n",
       "    <tr>\n",
       "      <th>243</th>\n",
       "      <td>18.78</td>\n",
       "      <td>3.00</td>\n",
       "      <td>Female</td>\n",
       "      <td>No</td>\n",
       "      <td>Thur</td>\n",
       "      <td>Dinner</td>\n",
       "      <td>2</td>\n",
       "    </tr>\n",
       "  </tbody>\n",
       "</table>\n",
       "<p>244 rows × 7 columns</p>\n",
       "</div>"
      ],
      "text/plain": [
       "     total_bill   tip     sex smoker   day    time  size\n",
       "0         16.99  1.01  Female     No   Sun  Dinner     2\n",
       "1         10.34  1.66    Male     No   Sun  Dinner     3\n",
       "2         21.01  3.50    Male     No   Sun  Dinner     3\n",
       "3         23.68  3.31    Male     No   Sun  Dinner     2\n",
       "4         24.59  3.61  Female     No   Sun  Dinner     4\n",
       "..          ...   ...     ...    ...   ...     ...   ...\n",
       "239       29.03  5.92    Male     No   Sat  Dinner     3\n",
       "240       27.18  2.00  Female    Yes   Sat  Dinner     2\n",
       "241       22.67  2.00    Male    Yes   Sat  Dinner     2\n",
       "242       17.82  1.75    Male     No   Sat  Dinner     2\n",
       "243       18.78  3.00  Female     No  Thur  Dinner     2\n",
       "\n",
       "[244 rows x 7 columns]"
      ]
     },
     "execution_count": 3,
     "metadata": {},
     "output_type": "execute_result"
    }
   ],
   "source": [
    "tips_dataset = sns.load_dataset('tips')\n",
    "tips_dataset"
   ]
  },
  {
   "cell_type": "markdown",
   "metadata": {},
   "source": [
    "# Q2: Create a histogram, where the x-axis represents the tip column\n",
    "- Change the style to 'whitegrid'.\n",
    "- Split the data out by the day column's categories. Hint: use hue argument.\n",
    "- Handle the overlapping columns by switching the element argument over to step."
   ]
  },
  {
   "cell_type": "code",
   "execution_count": 4,
   "metadata": {},
   "outputs": [
    {
     "data": {
      "image/png": "[encoded data removed]",
      "text/plain": [
       "<Figure size 720x432 with 1 Axes>"
      ]
     },
     "metadata": {},
     "output_type": "display_data"
    }
   ],
   "source": [
    "sns.set(style='whitegrid')  # Set style to 'whitegrid'\n",
    "\n",
    "# Create the histogram\n",
    "plt.figure(figsize=(10, 6))  \n",
    "\n",
    "sns.histplot(data=tips_dataset, x='tip', hue='day', element='step')\n",
    "\n",
    "# Set labels and title\n",
    "plt.xlabel('Tip Amount')\n",
    "plt.ylabel('Count')\n",
    "plt.title('Distribution of Tips by Day')\n",
    "\n",
    "# Show the histogram\n",
    "plt.show()\n"
   ]
  },
  {
   "cell_type": "markdown",
   "metadata": {},
   "source": [
    "## Q2.1 Write your top three findings \n",
    "- Saturday and Thursday are the days with the highest frequency of payment.\n",
    "- The most common tip is between 1 and 5\n",
    "- The tip on friday is very low\n",
    "- The tips on sunday is low"
   ]
  },
  {
   "cell_type": "markdown",
   "metadata": {},
   "source": [
    "# Q3: [Optional] Create a displot, where the x-axis represents the day column\n",
    "- Split the data out by the sex column's categories. Hint: use hue argument.\n",
    "- Handle the overlapping columns by switching the multiple argument over to 'dodge'.\n",
    "- Shrink the bars down using shrink argument to have a nice gap between each of them.\n",
    "- Change the bars color to 'Set1'.\n",
    "- Reset the hue order to ['Female', 'Male']."
   ]
  },
  {
   "cell_type": "code",
   "execution_count": null,
   "metadata": {},
   "outputs": [],
   "source": [
    "pip install -U seaborn"
   ]
  },
  {
   "cell_type": "code",
   "execution_count": null,
   "metadata": {},
   "outputs": [],
   "source": [
    "# write your code here ^_^\n",
    "\n",
    "sns.set(style='whitegrid')  # Set style to 'whitegrid'\n",
    "\n",
    "# Create the displot\n",
    "plt.figure(figsize=(10, 6))  # Set the figure size\n",
    "\n",
    "sns.displot(data=tips_dataset, x='day', hue='sex', multiple='dodge', shrink=0.9, palette='Set1',hue_order=[\"Female\",\"Male\"]);\n",
    "\n",
    "# Set labels and title\n",
    "plt.xlabel('Day')\n",
    "plt.ylabel('Count')\n",
    "plt.title('Distribution of Tips by Day and Sex')\n",
    "\n",
    "# Show the displot\n",
    "plt.show()"
   ]
  },
  {
   "cell_type": "markdown",
   "metadata": {},
   "source": [
    "## Q3.1 Write your top three findings \n",
    "- On Thursday, both the male and female have close numbers.\n",
    "- On Saturday and Sunday, the male population is double that of the females.\n",
    "- The clientele on Friday is low for male and female."
   ]
  },
  {
   "cell_type": "markdown",
   "metadata": {},
   "source": [
    "# Q4: Create a ecdf plot, where the x-axis represents the tip column\n",
    "- Change the style to 'darkgrid'.\n",
    "- Change the font scale to 1.25.\n",
    "- Split the data out by the time column's categories. Hint: use hue argument.\n",
    "- Change the lines color to 'summer'.\n",
    "- Change the line width to 3."
   ]
  },
  {
   "cell_type": "code",
   "execution_count": null,
   "metadata": {},
   "outputs": [],
   "source": [
    "sns.displot(data=tips_dataset, x='tip', hue='time', palette='summer', linewidth=3)"
   ]
  },
  {
   "cell_type": "code",
   "execution_count": null,
   "metadata": {},
   "outputs": [],
   "source": [
    "# write your code here ^_^\n",
    "sns.set(style='darkgrid')  # Set style to 'darkgrid'\n",
    "sns.set(font_scale=1.25)  # Set font scale\n",
    "\n",
    "# Create the ECDF plot\n",
    "plt.figure(figsize=(10, 6))  # Set the figure size\n",
    "\n",
    "sns.ecdfplot(data=tips_dataset, x='tip', hue='time', palette='summer', linewidth=3)\n",
    "\n",
    "# Set labels and title\n",
    "plt.xlabel('Tip Amount')\n",
    "plt.ylabel('ECDF proportion')\n",
    "plt.title('ECDF of Tips by Time')\n",
    "\n",
    "# Show the ECDF plot\n",
    "plt.show()\n"
   ]
  },
  {
   "cell_type": "markdown",
   "metadata": {},
   "source": [
    "## Q4.1 Write your top three findings \n",
    "- 2 is the most tip \n",
    "- Only at dinner the workers takes tip between 8 and 10\n",
    "- At dinner the tips is better "
   ]
  },
  {
   "cell_type": "markdown",
   "metadata": {},
   "source": [
    "# Q5: [Optional] Create a box plot, where the x-axis represents the day column and the y-axis represents the tip column\n",
    "- Change the style to 'whitegrid'.\n",
    "- Split the data out by the sex column's categories. Hint: use hue argument.\n",
    "- Change the bars color to 'Paired'.\n",
    "- Reset the hue order to ['Female', 'Male'].\n",
    "- Change the line width to 2.5."
   ]
  },
  {
   "cell_type": "code",
   "execution_count": null,
   "metadata": {},
   "outputs": [],
   "source": [
    "# write your code here ^_^\n",
    "sns.set(style='whitegrid')  # Set style to 'whitegrid'\n",
    "\n",
    "# Create the box plot\n",
    "plt.figure(figsize=(10, 6))  # Set the figure size\n",
    "sns.boxplot(data=tips_dataset, x='day', y='tip', hue='sex', palette='Paired', linewidth=2.5,hue_order=[\"Female\",\"Male\"])\n",
    "\n",
    "# Set labels and title\n",
    "plt.xlabel('Day')\n",
    "plt.ylabel('Tip Amount')\n",
    "plt.title('Box Plot of Tips by Day and Sex')\n",
    "# Show the box plot\n",
    "plt.show()\n"
   ]
  },
  {
   "cell_type": "markdown",
   "metadata": {},
   "source": [
    "## Q5.1 Write your top three findings \n",
    "- Female consumers are not expected to tip more than 5.\n",
    "- Most tips are between 2 and 4\n",
    "- Male customers tip more than female customers.\n"
   ]
  },
  {
   "cell_type": "markdown",
   "metadata": {},
   "source": [
    "# Q6: Create a violin plot, where the x-axis represents the time column and the y-axis represents the tip column\n",
    "- Split the data out by the sex column's categories. Hint: use hue argument.\n",
    "- Split the violin so that each violin contains both sex column's categories. Hint: use split argument.\n",
    "- Change the shape of the inner part of the violin to 'quartiles'.\n",
    "- Change the violin color to 'Pastel1'.\n",
    "- Reset the hue order to ['Female', 'Male'].\n",
    "- Change the line width to 2.\n",
    "- Change the legend's location to The upper left."
   ]
  },
  {
   "cell_type": "code",
   "execution_count": null,
   "metadata": {},
   "outputs": [],
   "source": [
    "# write your code here ^_^\n",
    "sns.set(style='whitegrid')  # Set style to 'whitegrid'\n",
    "# Create the violin plot\n",
    "plt.figure(figsize=(10, 6))  # Set the figure size\n",
    "\n",
    "sns.violinplot(data=tips_dataset, x='time', y='tip', hue='sex', split=True\n",
    "               , inner='quartiles', palette='Pastel1', linewidth=2,hue_order=(['Female', 'Male']))\n",
    "\n",
    "# Set labels and title\n",
    "plt.xlabel('Time')\n",
    "plt.ylabel('Tip Amount')\n",
    "plt.title('Violin Plot of Tips by Time and Sex')\n",
    "\n",
    "\n",
    "# Set the legend location\n",
    "plt.legend(loc='upper left')\n",
    "\n",
    "# Show the violin plot\n",
    "plt.show()"
   ]
  },
  {
   "cell_type": "markdown",
   "metadata": {},
   "source": [
    "## Q6.1 Write your top three findings \n",
    "- At the dinner and lunch, the male and female pay for a tip between 2 and 4\n",
    "- At the dinner the male gives more tips\n",
    "- Only the male pay from 8 to 10 for tips"
   ]
  },
  {
   "cell_type": "markdown",
   "metadata": {},
   "source": [
    "# Q7: [Optional] Create a swarm plot, where the x-axis represents the time column and the y-axis represents the total_bill column\n",
    "- Split the data out by the size column's categories. Hint: use hue argument."
   ]
  },
  {
   "cell_type": "code",
   "execution_count": null,
   "metadata": {},
   "outputs": [],
   "source": [
    "# write your code here ^_^\n",
    "\n",
    "sns.set(style='whitegrid')  # Set style to 'whitegrid'\n",
    "\n",
    "# Create the swarm plot\n",
    "plt.figure(figsize=(10, 6))  # Set the figure size\n",
    "\n",
    "sns.swarmplot(data=tips_dataset, x='time', y='total_bill', hue='size')\n",
    "\n",
    "# Set labels and title\n",
    "plt.xlabel('Time')\n",
    "plt.ylabel('Total Bill')\n",
    "plt.title('Swarm Plot of Total Bill by Time and Size')\n",
    "\n",
    "# Show the swarm plot\n",
    "plt.show()\n"
   ]
  },
  {
   "cell_type": "markdown",
   "metadata": {},
   "source": [
    "## Q7.1 Write your top three findings \n",
    "- Most of the table contain 2 person \n",
    "- The most total bill for all lunch and dinner is beteen 10-20 \n",
    "- Most people goes for dinner"
   ]
  },
  {
   "cell_type": "markdown",
   "metadata": {},
   "source": [
    "# Q8: Create a correlation heatmap \n",
    "- Adjust the figure's size to be (8,5).\n",
    "- Change the color map to 'RdBu'.\n",
    "- Add annotations to the heatmap.\n",
    "- Set the minimum value to be -1.\n",
    "- Set the maximum value to be 1."
   ]
  },
  {
   "cell_type": "code",
   "execution_count": null,
   "metadata": {
    "scrolled": true
   },
   "outputs": [],
   "source": [
    "# write your code here ^_^\n",
    "\n",
    "plt.figure(figsize=(8, 5))  # Set the figure size\n",
    "\n",
    "# Create the correlation heatmap\n",
    "sns.heatmap(tips_dataset.corr(), cmap='RdBu', annot=True, vmin=-1, vmax=1)\n",
    "\n",
    "# Set title\n",
    "plt.title('Correlation Heatmap')\n",
    "\n",
    "# Show the correlation heatmap\n",
    "plt.show()\n"
   ]
  },
  {
   "cell_type": "markdown",
   "metadata": {},
   "source": [
    "## Q8.1 Write your top three findings \n",
    "- There is high relation between total bill and the tip\n",
    "- There is high relation between total bill and size \n",
    "- The size(number of people on the table) does not always mean a high tip.\n",
    "- There is no nivative corrolation"
   ]
  },
  {
   "cell_type": "code",
   "execution_count": null,
   "metadata": {},
   "outputs": [],
   "source": []
  }
 ],
 "metadata": {
  "kernelspec": {
   "display_name": "Python 3",
   "language": "python",
   "name": "python3"
  },
  "language_info": {
   "codemirror_mode": {
    "name": "ipython",
    "version": 3
   },
   "file_extension": ".py",
   "mimetype": "text/x-python",
   "name": "python",
   "nbconvert_exporter": "python",
   "pygments_lexer": "ipython3",
   "version": "3.8.5"
  }
 },
 "nbformat": 4,
 "nbformat_minor": 5
}
